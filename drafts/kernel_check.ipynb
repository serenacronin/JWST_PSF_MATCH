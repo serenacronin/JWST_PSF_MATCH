{
 "cells": [
  {
   "cell_type": "code",
   "execution_count": 9,
   "id": "008e8572-74e4-4bc9-b8ca-0d2d60675caa",
   "metadata": {},
   "outputs": [],
   "source": [
    "import numpy as np\n",
    "from astropy.io import fits\n",
    "import matplotlib.pyplot as plt\n",
    "from scipy import integrate"
   ]
  },
  {
   "cell_type": "code",
   "execution_count": 7,
   "id": "085e92c1-688d-4e16-a6b8-383e3285da3b",
   "metadata": {},
   "outputs": [],
   "source": [
    "kernel_f250m_file = fits.open('data/FINAL/kernel_f250m_to_f360m.fits')\n",
    "kernel_f250m = kernel_f250m_file[0].data\n",
    "kernel_f335m_file = fits.open('data/FINAL/kernel_f335m_to_f360m.fits')\n",
    "kernel_f335m = kernel_f335m_file[0].data"
   ]
  },
  {
   "cell_type": "markdown",
   "id": "d7061ba7-43d3-4fe5-82eb-d7b661ac7ab8",
   "metadata": {},
   "source": [
    "Using the figure of merit check in Aniano+2010:\n",
    "\n",
    "W$_{\\pm}$ = 0.5 $\\int\\int$ (|K{A->B}| $\\pm$ K{A->B})dxdy,\n",
    "\n",
    "where the integral is the sum over the pixels and K is the kernel. This makes it equivalent to:\n",
    "\n",
    "W$_{\\pm}$ = 0.5 * sum(|K| $\\pm$ K).\n",
    "\n",
    "W$_{+}$ = 1 + W$_{-}$ must be satisfied"
   ]
  },
  {
   "cell_type": "code",
   "execution_count": 39,
   "id": "a8c3d96d-dc80-4882-b82e-0746abf13c79",
   "metadata": {},
   "outputs": [
    {
     "name": "stdout",
     "output_type": "stream",
     "text": [
      "0.9754737167478542\n",
      "1.9754737167478544\n",
      "1.0000000000000002\n"
     ]
    }
   ],
   "source": [
    "# W_ for f335m\n",
    "print(0.5*np.sum(np.abs(kernel_f335m) - kernel_f335m))\n",
    "\n",
    "# W+ for f335m\n",
    "print(0.5*np.sum(np.abs(kernel_f335m) + kernel_f335m))\n",
    "\n",
    "# W+ - W_\n",
    "print(0.5*np.sum(np.abs(kernel_f335m) + kernel_f335m) - 0.5*np.sum(np.abs(kernel_f335m) - kernel_f335m))"
   ]
  },
  {
   "cell_type": "code",
   "execution_count": 40,
   "id": "1844c92a-0441-44b1-99ea-1eb5c0a1e011",
   "metadata": {},
   "outputs": [
    {
     "name": "stdout",
     "output_type": "stream",
     "text": [
      "0.4459077058331829\n",
      "1.4459077058331837\n",
      "1.0000000000000009\n"
     ]
    }
   ],
   "source": [
    "# W_ for f250m\n",
    "print(0.5*np.sum(np.abs(kernel_f250m) - kernel_f250m))\n",
    "\n",
    "# W+ for f250m\n",
    "print(0.5*np.sum(np.abs(kernel_f250m) + kernel_f250m))\n",
    "\n",
    "# W+ - W_\n",
    "print(0.5*np.sum(np.abs(kernel_f250m) + kernel_f250m) - 0.5*np.sum(np.abs(kernel_f250m) - kernel_f250m))"
   ]
  },
  {
   "cell_type": "code",
   "execution_count": null,
   "id": "57fd8838-cd50-4649-ab3c-b9f2dd27d870",
   "metadata": {},
   "outputs": [],
   "source": []
  }
 ],
 "metadata": {
  "kernelspec": {
   "display_name": "Python 3 (ipykernel)",
   "language": "python",
   "name": "python3"
  },
  "language_info": {
   "codemirror_mode": {
    "name": "ipython",
    "version": 3
   },
   "file_extension": ".py",
   "mimetype": "text/x-python",
   "name": "python",
   "nbconvert_exporter": "python",
   "pygments_lexer": "ipython3",
   "version": "3.9.18"
  }
 },
 "nbformat": 4,
 "nbformat_minor": 5
}
